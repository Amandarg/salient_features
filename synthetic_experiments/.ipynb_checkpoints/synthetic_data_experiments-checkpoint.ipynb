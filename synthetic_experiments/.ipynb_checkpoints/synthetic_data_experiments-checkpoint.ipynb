{
 "cells": [
  {
   "cell_type": "code",
   "execution_count": null,
   "metadata": {},
   "outputs": [],
   "source": [
    "import sys\n",
    "sys.path.insert(0, '../')\n",
    "\n",
    "import seaborn\n",
    "import embedding_class\n",
    "import synthetic_pair_class\n",
    "import utils\n",
    "import copy\n",
    "import importlib\n",
    "import fit_model_class\n",
    "import pickle\n",
    "import preference_utils\n",
    "import experiment_utils\n",
    "import pickle\n",
    "import numpy as np"
   ]
  },
  {
   "cell_type": "code",
   "execution_count": null,
   "metadata": {
    "scrolled": true
   },
   "outputs": [],
   "source": [
    "#run this cell then the next 4 below it to obtain transitivity violation plots and plots of the bounds from the thm and number of samples\n",
    "names = ['$\\\\lambda$', '$b^*$', '$\\\\zeta$', '$\\\\beta$', '$\\\\eta$', 'upper bound', '$m_1$', '$m_2$', 'moderate stochastic transitivity violations', 'strong stochastic transitivity violations', 'weak stochastic transitivity violations', 'pairwise inconsistency']\n",
    "\n",
    "num_items = 100\n",
    "d = 10\n",
    "thresholds = range(1,11)\n",
    "num_exp = 10\n",
    "temp = experiment_utils.get_results(num_items, d, num_exp, 12, thresholds)\n",
    "SST_violation = [np.mean(t) for t in temp[9]]"
   ]
  },
  {
   "cell_type": "code",
   "execution_count": null,
   "metadata": {
    "scrolled": false
   },
   "outputs": [],
   "source": [
    "utils.plot_sst_pairwise_inconsistencies(temp[8:], thresholds, '$t$', '', 'Violations of rational choice', 'paper', 'sst_pi_2')"
   ]
  },
  {
   "cell_type": "code",
   "execution_count": null,
   "metadata": {},
   "outputs": [],
   "source": [
    "utils.plot_results_multiple(temp[0:5], SST_violation, ['SST violation rate' for i in range(5)], names[0:5], 1, 5, 'Parameters', 'paper', 'parameters')\n",
    "utils.plot_results_multiple(temp[5:8], SST_violation, ['SST violation rate' for i in range(3)], names[5:8], 1, 3, 'Samples and Bound', 'paper', 'samples_and_bound')"
   ]
  },
  {
   "cell_type": "code",
   "execution_count": null,
   "metadata": {
    "scrolled": true
   },
   "outputs": [],
   "source": [
    "# this generates data with the top-3 selection function and then fits the MLE of the top-t selection function for t in [1,2,3,4,5,6,7,8,9,10]\n",
    "# run the 3 cells below it to create the plots from the paper\n",
    "dim = 10\n",
    "num_items = 100\n",
    "num_exp = 10\n",
    "threshold = 3\n",
    "samples = [100, 200, 400, 800, 1600, 3200, 6400, 6400*2,  6400*4,  6400*8, 6400*16]\n",
    "thresholds_try = [1,2,3,4,5,6,7,8,9,10]\n",
    "\n",
    "results, bound, kt_results, prediction_results = experiment_utils.sample_mispecified(dim, num_items, num_exp, threshold, samples, thresholds_try)"
   ]
  },
  {
   "cell_type": "code",
   "execution_count": null,
   "metadata": {
    "scrolled": true
   },
   "outputs": [],
   "source": [
    "import numpy as np\n",
    "importlib.reload(utils)\n",
    "utils.plot_increasing_samples(results, bound, thresholds_try, np.log2(samples))"
   ]
  },
  {
   "cell_type": "code",
   "execution_count": null,
   "metadata": {},
   "outputs": [],
   "source": [
    "importlib.reload(utils)\n",
    "utils.plot_threshold_sweep(kt_results, thresholds_try, np.log2(samples[:]), '', 'number of pairwise comparisons \\n on $\\log_2$ scale',  'Kendall tau correlation', 'kt_error_new', log = False)"
   ]
  },
  {
   "cell_type": "code",
   "execution_count": null,
   "metadata": {},
   "outputs": [],
   "source": [
    "utils.plot_threshold_sweep(prediction_results, thresholds_try, np.log2(samples), '', 'number of pairwise comparisons \\n on $\\log_2$ scale', 'Pairwise prediction accuracy', 'prediction_acc', log = False)"
   ]
  }
 ],
 "metadata": {
  "kernelspec": {
   "display_name": "Python 3",
   "language": "python",
   "name": "python3"
  },
  "language_info": {
   "codemirror_mode": {
    "name": "ipython",
    "version": 3
   },
   "file_extension": ".py",
   "mimetype": "text/x-python",
   "name": "python",
   "nbconvert_exporter": "python",
   "pygments_lexer": "ipython3",
   "version": "3.7.4"
  }
 },
 "nbformat": 4,
 "nbformat_minor": 2
}
